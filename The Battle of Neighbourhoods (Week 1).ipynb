{
 "cells": [
  {
   "cell_type": "markdown",
   "metadata": {},
   "source": [
    "# The Battle of Neighbourhoods (Week 1)"
   ]
  },
  {
   "cell_type": "markdown",
   "metadata": {},
   "source": [
    "## 1) Introduction"
   ]
  },
  {
   "cell_type": "markdown",
   "metadata": {},
   "source": [
    "London is one of the main hubs for tourism. Thousands of people visit it every year and the numbers are growing. It is diverse and multicultural and offers a wide variety of experiences that is widely sought after. We will try to group the neighbourhoods of London aand draw insights about how it currently looks like."
   ]
  },
  {
   "cell_type": "markdown",
   "metadata": {},
   "source": [
    "## 2) Business Problem"
   ]
  },
  {
   "cell_type": "markdown",
   "metadata": {},
   "source": [
    "Our goal is to assist tourists to choose the right locations to visit depending on the neighbourhood. It will help make people deceions on whether they want to move from one neighbourhood to another and it will also help stakeholders to make informed decisions about the neighbourhood. "
   ]
  },
  {
   "cell_type": "markdown",
   "metadata": {},
   "source": [
    "## 3) Data"
   ]
  },
  {
   "cell_type": "markdown",
   "metadata": {},
   "source": [
    "We need the geospatial data from London to do analysis on. We will get the data by retrieving Postal codes from Wikipedia and find out the neighborhoods, boroughs, venues and their most popular venue categories."
   ]
  },
  {
   "cell_type": "markdown",
   "metadata": {},
   "source": [
    "### 3.1) Data Structure"
   ]
  },
  {
   "cell_type": "markdown",
   "metadata": {},
   "source": [
    "We will get our data from https://en.wikipedia.org/wiki/List_of_areas_of_London, which has information about all the neighbourhoods.\n",
    "\n",
    "The three types of columns will be :\n",
    "\n",
    "borough: neighbourhood name\n",
    "town: bourough name\n",
    "post_code : postal code from London\n",
    "\n",
    "This wikipedia page doesn't information about the geographical locations, therefore we will use ArcGIS API for that."
   ]
  },
  {
   "cell_type": "markdown",
   "metadata": {},
   "source": [
    "### 3.2) What is ArcGIS API?"
   ]
  },
  {
   "cell_type": "markdown",
   "metadata": {},
   "source": [
    "ArcGIS API connects people, locations, and data using interactive maps. \n",
    "\n",
    "We will use ArcGIS to get the geolocations of the neighbourhoods of London. The following columns will be added to our initial dataset which prepares our data.\n",
    "\n",
    "* latitude:  neighbourhood latitude\n",
    "* longitude: neighbourhood longitude"
   ]
  },
  {
   "cell_type": "markdown",
   "metadata": {},
   "source": [
    "### 3.3) Using Foursquare API"
   ]
  },
  {
   "cell_type": "markdown",
   "metadata": {},
   "source": [
    "We will need data about different venues in different neighbourhoods of that specific borough. We will use Foursquare to gain that information. Foursquare is a location data provider with information about different venues and events within an area of interest. Such information includes venue names, locations, menus and even photos. As such, the foursquare location platform will be used as the sole data source since all the stated required information can be obtained through the API.\n",
    "\n",
    "After finding the list of neighbourhoods, we will connect to the Foursquare API to gather information about venues inside each and every neighbourhood. For each neighbourhood, we have chosen the radius to be 500 meters.\n",
    "\n",
    "The data retrieved from Foursquare contained information of venues within a specified distance of the longitude and latitude of the postcodes. The information obtained per venue as follows:\n",
    "\n",
    "\n",
    "* Neighbourhood: Name of the Neighbourhood\n",
    "* Neighbourhood Latitude: Latitude of the Neighbourhood\n",
    "* Neighbourhood Longitude: Longitude of the Neighbourhood\n",
    "* Venue: Name of the Venue\n",
    "* Venue Latitude: Latitude of Venue\n",
    "* Venue Longitude: Longitude of Venue\n",
    "* Venue Category: Category of Venue\n",
    "\n",
    "\n",
    "Based on all the information collected for London, we have sufficient data to build our model. We cluster the neighbourhoods together based on similar venue categories. We then present our observations and findings. Using this data, our stakeholders can take the necessary decision."
   ]
  },
  {
   "cell_type": "code",
   "execution_count": null,
   "metadata": {},
   "outputs": [],
   "source": []
  }
 ],
 "metadata": {
  "kernelspec": {
   "display_name": "Python 3",
   "language": "python",
   "name": "python3"
  },
  "language_info": {
   "codemirror_mode": {
    "name": "ipython",
    "version": 3
   },
   "file_extension": ".py",
   "mimetype": "text/x-python",
   "name": "python",
   "nbconvert_exporter": "python",
   "pygments_lexer": "ipython3",
   "version": "3.9.0"
  }
 },
 "nbformat": 4,
 "nbformat_minor": 4
}
